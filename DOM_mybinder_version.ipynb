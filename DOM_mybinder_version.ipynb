{
 "cells": [
  {
   "cell_type": "code",
   "execution_count": 49,
   "metadata": {},
   "outputs": [],
   "source": [
    "import numpy as np\n",
    "import matplotlib.pyplot as plt\n",
    "import pandas as pd\n",
    "import scipy.sparse as spr\n",
    "import gurobipy as grb\n",
    "import ipywidgets as widgets\n",
    "\n",
    "data_X = pd.read_csv(\"https://github.com/math-econ-code/mec_optim_2021-01/raw/master/data_mec_optim/marriage_personality-traits/Xvals.csv\")\n",
    "data_Y = pd.read_csv(\"https://github.com/math-econ-code/mec_optim_2021-01/raw/master/data_mec_optim/marriage_personality-traits/Yvals.csv\")\n",
    "data_affmat = pd.read_csv(\"https://github.com/math-econ-code/mec_optim_2021-01/raw/master/data_mec_optim/marriage_personality-traits/affinitymatrix.csv\")"
   ]
  },
  {
   "cell_type": "code",
   "execution_count": 50,
   "metadata": {},
   "outputs": [],
   "source": [
    "class random_panel:\n",
    "    def __init__(self, init_matrix, time, speed=1):\n",
    "        self.time = time\n",
    "        self.init_matrix = init_matrix\n",
    "        self.speed = speed\n",
    "    def generate(self):\n",
    "        X_panel = np.empty((self.time, self.init_matrix.shape[0], self.init_matrix.shape[1]))\n",
    "        X_panel[0, :, :] = self.init_matrix\n",
    "        for i in range(self.time - 1):\n",
    "            X_panel[i+1, :, :] = X_panel[i, :, :] + self.speed * np.random.randn(self.init_matrix.shape[0], self.init_matrix.shape[1])\n",
    "        return X_panel"
   ]
  },
  {
   "cell_type": "code",
   "execution_count": 51,
   "metadata": {},
   "outputs": [],
   "source": [
    "np.random.seed(42)\n",
    "n = 10\n",
    "t = 10\n",
    "speed = 1\n",
    "\n",
    "sdX = data_X.std().to_numpy()\n",
    "sdY = data_Y.std().to_numpy()\n",
    "mX = data_X.mean().to_numpy()\n",
    "mY = data_Y.mean().to_numpy()\n",
    "\n",
    "affmat = data_affmat.to_numpy()[0: 10, 1:]\n",
    "Xvals = ((data_X-mX)/sdX).to_numpy()[0:n, :]\n",
    "Yvals = ((data_Y-mY)/sdY).to_numpy()[0:n, :]\n",
    "\n",
    "\n",
    "Xvals_dyna = random_panel(Xvals, t, speed).generate()\n",
    "Yvals_dyna = random_panel(Yvals.T, t, speed).generate()\n",
    "phi_dyna = Xvals_dyna @ affmat @ Yvals_dyna"
   ]
  },
  {
   "cell_type": "code",
   "execution_count": 52,
   "metadata": {},
   "outputs": [],
   "source": [
    "class dynamic_matching_no_information:\n",
    "    def __init__(self, phi, cost, cost_type):\n",
    "        self.phi = phi\n",
    "        self.C = cost\n",
    "        self.n = phi.shape[1]\n",
    "        self.t = phi.shape[0]\n",
    "        self.vecphi = self.phi.flatten()\n",
    "        self.cost_type = cost_type\n",
    "    def optimize(self):\n",
    "        phi_t = self.phi[0, :, :]\n",
    "        vecphi_t = phi_t.flatten()\n",
    "        sparse_one = spr.csr_matrix(np.ones(self.n).reshape(1, self.n))\n",
    "        p_t = np.ones((self.n, 1))/self.n\n",
    "        q_t = np.ones((self.n, 1))/self.n\n",
    "        d_t = np.concatenate((p_t, q_t), axis=None)\n",
    "\n",
    "        A_loop = spr.kron(sparse_one, spr.identity(self.n))\n",
    "        B_loop = spr.kron(spr.identity(self.n), sparse_one)\n",
    "        Aconstr_loop = spr.vstack([A_loop, B_loop])\n",
    "\n",
    "        self.pi_panel_loop = np.empty((self.t, self.n, self.n))\n",
    "        self.optimal_values_loop = []\n",
    "        for iteration in range(self.t):\n",
    "            p = grb.Model('Optimal Coupling with reassignment cost')\n",
    "            x = p.addMVar(shape = self.n**2, name = 'x')\n",
    "            p.setObjective(vecphi_t @ x, grb.GRB.MAXIMIZE)\n",
    "            p.addConstr(Aconstr_loop @ x == d_t)\n",
    "            p.setParam('OutputFlag', False)\n",
    "            p.optimize()\n",
    "            if p.status == grb.GRB.Status.OPTIMAL:\n",
    "                self.optimal_values_loop.append((self.phi[iteration, :, :]).flatten() @ p.getAttr('x'))\n",
    "                matpi_t = np.array(p.getAttr('x')).reshape(self.n, self.n)\n",
    "                self.pi_panel_loop[iteration, :, :] = matpi_t\n",
    "            if iteration < self.t - 1 and (self.cost_type == 'Fixed' or self.cost_type == 'fixed'):\n",
    "                vecphi_t = (self.phi[iteration + 1, :, :] + (self.C * matpi_t)).flatten()\n",
    "            elif iteration < self.t - 1 and (self.cost_type == 'Variable' or self.cost_type == 'variable'):\n",
    "                vecphi_t = (self.phi[iteration + 1, :, :] + (self.C * matpi_t * self.phi[iteration, :, :])).flatten()\n",
    "\n",
    "        self.pi_loop_surplus = np.sum(self.optimal_values_loop)\n",
    "        \n",
    "    def surplus(self):\n",
    "        print('With', self.cost_type, 'reassignment cost ', self.C ,', the surplus generated is', self.pi_loop_surplus)\n",
    "        \n",
    "    def surplus_loss(self):\n",
    "        p = np.ones((self.t, self.n, 1))/self.n\n",
    "        q = np.ones((self.t, self.n, 1))/self.n\n",
    "        d = np.concatenate((p,q), axis = None)\n",
    "\n",
    "        sparse_one = spr.csr_matrix(np.ones(self.n).reshape(1, self.n))\n",
    "\n",
    "        A = spr.kron(spr.identity(self.n*self.t), sparse_one)\n",
    "        B = spr.kron(spr.kron(spr.identity(self.t), sparse_one), spr.identity(self.n))\n",
    "        Aconstr = spr.vstack([A, B])\n",
    "\n",
    "        m=grb.Model('Optimal Marriage')\n",
    "        x = m.addMVar(shape=self.t * self.n**2, name=\"x\")\n",
    "        m.setObjective(self.vecphi @ x, grb.GRB.MAXIMIZE)\n",
    "        m.setParam('OutputFlag', False)\n",
    "        m.addConstr(Aconstr @ x == d, name=\"Constr\")\n",
    "        m.optimize()\n",
    "\n",
    "        if m.status == grb.GRB.Status.OPTIMAL:\n",
    "            pi_surplus = self.vecphi @ m.getAttr('x')\n",
    "        self.surplus_loss_l = pi_surplus - self.pi_loop_surplus\n",
    "        print('The surplus loss is of ', (self.surplus_loss_l/pi_surplus)*100, '% due to the reassignment cost')\n",
    "        \n",
    "    def matching_of_man(self, man):\n",
    "        for time in range(self.t):\n",
    "            if np.all(self.pi_panel_loop[time, man - 1, :] == 0):\n",
    "                print('Period', time+1, ': Single')\n",
    "            else:\n",
    "                print('Period', time+1, ': Woman', np.argwhere(self.pi_panel_loop[time, man-1,:] != 0)[0][0] + 1)\n",
    "        \n",
    "    def matching_graph(self):\n",
    "        plt.rcParams[\"figure.figsize\"] = (20, 6)\n",
    "        self.matchings = np.empty((self.t, self.n))\n",
    "        for time in range(self.t):\n",
    "            self.matchings[time, :] = np.argwhere(self.pi_panel_loop[time, : ,:] != 0)[:, 1] + 1\n",
    "        plt.plot(self.matchings)\n",
    "        plt.show()"
   ]
  },
  {
   "cell_type": "code",
   "execution_count": 55,
   "metadata": {},
   "outputs": [
    {
     "data": {
      "application/vnd.jupyter.widget-view+json": {
       "model_id": "a038f58c78a04dc7912c19183af59a90",
       "version_major": 2,
       "version_minor": 0
      },
      "text/plain": [
       "interactive(children=(IntSlider(value=40, description='Divorce_cost', step=20), Output()), _dom_classes=('widg…"
      ]
     },
     "metadata": {},
     "output_type": "display_data"
    }
   ],
   "source": [
    "@widgets.interact(Divorce_cost=(0, 100, 20))\n",
    "def simulate(Divorce_cost):\n",
    "    test_no_inf_fixed = dynamic_matching_no_information(phi_dyna, Divorce_cost, cost_type='fixed')\n",
    "    test_no_inf_fixed.optimize()\n",
    "    test_no_inf_fixed.surplus()\n",
    "    test_no_inf_fixed.surplus_loss()\n",
    "    test_no_inf_fixed.matching_graph()"
   ]
  },
  {
   "cell_type": "code",
   "execution_count": null,
   "metadata": {},
   "outputs": [],
   "source": []
  }
 ],
 "metadata": {
  "kernelspec": {
   "display_name": "Python 3",
   "language": "python",
   "name": "python3"
  },
  "language_info": {
   "codemirror_mode": {
    "name": "ipython",
    "version": 3
   },
   "file_extension": ".py",
   "mimetype": "text/x-python",
   "name": "python",
   "nbconvert_exporter": "python",
   "pygments_lexer": "ipython3",
   "version": "3.7.4"
  }
 },
 "nbformat": 4,
 "nbformat_minor": 2
}
